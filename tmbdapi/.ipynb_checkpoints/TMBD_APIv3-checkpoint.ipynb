{
 "cells": [
  {
   "cell_type": "markdown",
   "metadata": {},
   "source": [
    "# TMBD Data API\n",
    "----\n"
   ]
  },
  {
   "cell_type": "code",
   "execution_count": 1,
   "metadata": {
    "scrolled": true
   },
   "outputs": [],
   "source": [
    "# Dependencies and Setup\n",
    "import matplotlib.pyplot as plt\n",
    "import pandas as pd\n",
    "import numpy as np\n",
    "import requests\n",
    "import time\n",
    "import os\n",
    "import locale # to format currency as USD\n",
    "from pandas.io.json import json_normalize\n",
    "locale.setlocale( locale.LC_ALL, '' )\n",
    "\n",
    "# Import API key\n",
    "from api_keys import api_key\n",
    "\n",
    "# Output File (CSV)\n",
    "output_data_file = \"tmbddata.csv\"\n",
    "        "
   ]
  },
  {
   "cell_type": "code",
   "execution_count": 2,
   "metadata": {},
   "outputs": [],
   "source": [
    "# def get_movie_data(api_key, page):\n",
    "#     url = 'https://api.themoviedb.org/3/discover/movie/'\n",
    "#     r = requests.get(url + '?api_key='+ api_key + '&language=en-US' + str(page))\n",
    "#     if r.status_code == 200:\n",
    "#            return r.json()\n",
    "#     else:\n",
    "#         return None\n"
   ]
  },
  {
   "cell_type": "code",
   "execution_count": 3,
   "metadata": {},
   "outputs": [],
   "source": [
    "# page  = 1\n",
    "# all_results = []\n",
    "# while True:\n",
    "#     result = get_movie_data(api_key, page)\n",
    "#     if result:\n",
    "#         all_results.append(result)\n",
    "#         page += 1\n",
    "#     else:\n",
    "#         break"
   ]
  },
  {
   "cell_type": "code",
   "execution_count": null,
   "metadata": {},
   "outputs": [],
   "source": [
    "## Generate Movies Database from TMBD API by looping though all pages\n",
    "all_results = []\n",
    "url = 'https://api.themoviedb.org/3/discover/movie/'\n",
    "page = 1\n",
    "while True:\n",
    "    r = requests.get(url + '?api_key='+ api_key+'&language=en-US' + '&page='+str(page))\n",
    "    movie_data = r.json()\n",
    "    if r.status_code == 200:\n",
    "        #all_results = r.json()['results']\n",
    "        all_results.append(movie_data)\n",
    "        page += 1\n",
    "    else:\n",
    "        break"
   ]
  },
  {
   "cell_type": "code",
   "execution_count": null,
   "metadata": {},
   "outputs": [],
   "source": [
    "print(all_results)"
   ]
  },
  {
   "cell_type": "code",
   "execution_count": null,
   "metadata": {},
   "outputs": [],
   "source": [
    "#Create dataframe"
   ]
  },
  {
   "cell_type": "code",
   "execution_count": null,
   "metadata": {},
   "outputs": [],
   "source": [
    "df = pd.DataFrame([{\n",
    "    \"release_date\":d[\"release_date\"],\n",
    "    \"original_title\": d[\"original_title\"],\n",
    "    \"title\": d[\"title\"],\n",
    "    \"popularity\": d[\"popularity\"],\n",
    "    \"vote_count\": d[\"vote_count\"],\n",
    "    \"vote_avg\": d[\"vote_average\"],\n",
    "    \"popularity\":d[\"popularity\"],\n",
    "} for d in all_results])\n",
    "df.head()"
   ]
  },
  {
   "cell_type": "code",
   "execution_count": null,
   "metadata": {},
   "outputs": [],
   "source": [
    "# dictr = r.json()\n",
    "# movies = dictr['results']\n",
    "# df = json_normalize(movies)\n",
    "# df.head()"
   ]
  },
  {
   "cell_type": "code",
   "execution_count": null,
   "metadata": {},
   "outputs": [],
   "source": [
    "#create CSV file of raw data from OpenWeather API and store in Results Directory"
   ]
  },
  {
   "cell_type": "code",
   "execution_count": null,
   "metadata": {},
   "outputs": [],
   "source": [
    "#Create directory to store results\n",
    "script_dir = os.path.dirname(\"\")\n",
    "results_dir = os.path.join(script_dir, 'Results/')\n",
    "if not os.path.isdir(results_dir):\n",
    "    os.makedirs(results_dir)\n",
    "df.to_csv(results_dir + output_data_file)"
   ]
  },
  {
   "cell_type": "code",
   "execution_count": null,
   "metadata": {},
   "outputs": [],
   "source": []
  }
 ],
 "metadata": {
  "anaconda-cloud": {},
  "kernel_info": {
   "name": "python3"
  },
  "kernelspec": {
   "display_name": "api",
   "language": "python",
   "name": "api"
  },
  "language_info": {
   "codemirror_mode": {
    "name": "ipython",
    "version": 3
   },
   "file_extension": ".py",
   "mimetype": "text/x-python",
   "name": "python",
   "nbconvert_exporter": "python",
   "pygments_lexer": "ipython3",
   "version": "3.7.4"
  },
  "nteract": {
   "version": "0.12.3"
  }
 },
 "nbformat": 4,
 "nbformat_minor": 4
}

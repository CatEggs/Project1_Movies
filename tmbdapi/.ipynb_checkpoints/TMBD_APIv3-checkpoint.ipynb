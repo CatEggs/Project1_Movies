{
 "cells": [
  {
   "cell_type": "markdown",
   "metadata": {},
   "source": [
    "# TMBD Data API\n",
    "----\n"
   ]
  },
  {
   "cell_type": "code",
   "execution_count": 1,
   "metadata": {
    "scrolled": true
   },
   "outputs": [],
   "source": [
    "# Dependencies and Setup\n",
    "import matplotlib.pyplot as plt\n",
    "import pandas as pd\n",
    "import numpy as np\n",
    "import requests\n",
    "import time\n",
    "import os\n",
    "import locale # to format currency as USD\n",
    "from pandas.io.json import json_normalize\n",
    "import datetime\n",
    "locale.setlocale( locale.LC_ALL, '' )\n",
    "\n",
    "# Import API key\n",
    "from api_keys import api_key\n",
    "\n",
    "# Output File (CSV)\n",
    "output_data_file = \"tmbddata_dev.csv\"\n",
    "movie_revenue_data = \"tmbd_dev_movie_revenue.csv\"\n",
    "final_data = \"tmbd_data_final.csv\"\n",
    "        "
   ]
  },
  {
   "cell_type": "code",
   "execution_count": null,
   "metadata": {},
   "outputs": [],
   "source": []
  },
  {
   "cell_type": "code",
   "execution_count": 2,
   "metadata": {},
   "outputs": [],
   "source": [
    "## Generate Movies Database from TMBD API by looping though all pages\n",
    "all_results = []\n",
    "url = 'https://api.themoviedb.org/3/discover/movie/'\n",
    "page = 1\n",
    "while True:\n",
    "    r = requests.get(url + '?api_key='+ api_key+'&language=en-US' + '&page='+str(page))\n",
    "    movie_data = r.json()\n",
    "    if r.status_code == 200:\n",
    "        all_results.append(movie_data)\n",
    "        page += 1\n",
    "    else:\n",
    "        break"
   ]
  },
  {
   "cell_type": "code",
   "execution_count": 3,
   "metadata": {},
   "outputs": [],
   "source": [
    "#Create dataframe to store movie data movie_df"
   ]
  },
  {
   "cell_type": "code",
   "execution_count": 4,
   "metadata": {},
   "outputs": [],
   "source": [
    "movie_df = pd.io.json.json_normalize(all_results, record_path = 'results')"
   ]
  },
  {
   "cell_type": "code",
   "execution_count": 5,
   "metadata": {},
   "outputs": [],
   "source": [
    "#create CSV file of raw data from OpenWeather API and store in Results Directory"
   ]
  },
  {
   "cell_type": "code",
   "execution_count": 6,
   "metadata": {},
   "outputs": [],
   "source": [
    "#Create directory to store results\n",
    "script_dir = os.path.dirname(\"\")\n",
    "results_dir = os.path.join(script_dir, 'Results/')\n",
    "if not os.path.isdir(results_dir):\n",
    "    os.makedirs(results_dir)\n",
    "movie_df.to_csv(results_dir + output_data_file)"
   ]
  },
  {
   "cell_type": "code",
   "execution_count": 7,
   "metadata": {},
   "outputs": [],
   "source": [
    "#Create list of movie ids from dataframe to use in APU query and get revenue and budget"
   ]
  },
  {
   "cell_type": "code",
   "execution_count": 8,
   "metadata": {},
   "outputs": [],
   "source": [
    "movie_ids = movie_df['id'].tolist()"
   ]
  },
  {
   "cell_type": "code",
   "execution_count": 9,
   "metadata": {},
   "outputs": [],
   "source": [
    "#Create function to query database by movie id and get detailed data"
   ]
  },
  {
   "cell_type": "code",
   "execution_count": 10,
   "metadata": {},
   "outputs": [],
   "source": [
    "def get_movie_revenue(id, api_key):\n",
    "    \n",
    "    url = 'https://api.themoviedb.org/3/movie/'\n",
    "\n",
    "    r = requests.get(url + str(id) + '?api_key='+ api_key+'&language=en-US' + '&sort_by=revenue.desc')\n",
    "    \n",
    "    if r.status_code == 200:\n",
    "        return r.json()\n",
    "    else:\n",
    "        return None\n",
    "    \n",
    "\n",
    "movie_revenue = []\n",
    "\n",
    "for id in movie_ids:\n",
    "    result = get_movie_revenue(id, api_key)\n",
    "    if result:\n",
    "        movie_revenue.append(result)\n"
   ]
  },
  {
   "cell_type": "code",
   "execution_count": 11,
   "metadata": {},
   "outputs": [],
   "source": [
    "#Create movie_revenue_df and Save data to csv file\n",
    "movie_revenue_df = pd.io.json.json_normalize(movie_revenue)\n",
    "movie_revenue_df.to_csv(results_dir + movie_revenue_data)"
   ]
  },
  {
   "cell_type": "code",
   "execution_count": 12,
   "metadata": {},
   "outputs": [],
   "source": [
    "# Import FRED Consumer Price Index for Urban Consumers https://fred.stlouisfed.org/series/CPIAUCNS"
   ]
  },
  {
   "cell_type": "code",
   "execution_count": 13,
   "metadata": {},
   "outputs": [],
   "source": [
    "path = os.path.join(\"Data\", \"CPIAUCNS.csv\")\n",
    "inflation_df = pd.read_csv(path)"
   ]
  },
  {
   "cell_type": "code",
   "execution_count": 14,
   "metadata": {},
   "outputs": [],
   "source": [
    "#Clean Data for movie_revenue_df"
   ]
  },
  {
   "cell_type": "code",
   "execution_count": 15,
   "metadata": {},
   "outputs": [],
   "source": [
    "#Get names of indexes for which revenue column has revenue has value of less than or equal to zero\n",
    "#Delete these rows from dataframe"
   ]
  },
  {
   "cell_type": "code",
   "execution_count": 16,
   "metadata": {},
   "outputs": [],
   "source": [
    "indexNames = movie_revenue_df[ movie_revenue_df['revenue'] <= 0 ].index\n",
    "movie_revenue_df.drop(indexNames , inplace=True)"
   ]
  },
  {
   "cell_type": "code",
   "execution_count": 17,
   "metadata": {},
   "outputs": [],
   "source": [
    "#Get names of indexes for which budget column has revenue has value of less than or equal to zero\n",
    "#Delete these rows from dataframe"
   ]
  },
  {
   "cell_type": "code",
   "execution_count": 18,
   "metadata": {},
   "outputs": [],
   "source": [
    "indexNames = movie_revenue_df[ movie_revenue_df['budget'] <= 0 ].index\n",
    "movie_revenue_df.drop(indexNames , inplace=True)"
   ]
  },
  {
   "cell_type": "code",
   "execution_count": 19,
   "metadata": {},
   "outputs": [],
   "source": [
    "#Add column \"Profit\" which is revenue - budget"
   ]
  },
  {
   "cell_type": "code",
   "execution_count": 20,
   "metadata": {},
   "outputs": [],
   "source": [
    "movie_revenue_df['profit'] = movie_revenue_df['revenue'] - movie_revenue_df['budget']"
   ]
  },
  {
   "cell_type": "code",
   "execution_count": 21,
   "metadata": {},
   "outputs": [],
   "source": [
    "#Convert release date to month/year and create new column called release month"
   ]
  },
  {
   "cell_type": "code",
   "execution_count": 22,
   "metadata": {},
   "outputs": [],
   "source": [
    "movie_revenue_df['month'] = pd.to_datetime(movie_revenue_df['release_date']).dt.to_period('M')"
   ]
  },
  {
   "cell_type": "code",
   "execution_count": 23,
   "metadata": {},
   "outputs": [],
   "source": [
    "#Remove columns we dont need and create new dataframe movie_revenue_clean_df"
   ]
  },
  {
   "cell_type": "code",
   "execution_count": 24,
   "metadata": {},
   "outputs": [],
   "source": [
    "columns_drop = ['adult', \n",
    "                'backdrop_path', \n",
    "                'belongs_to_collection', \n",
    "                'poster_path', \n",
    "                'genres',\n",
    "                'tagline', \n",
    "                'video', \n",
    "                'belongs_to_collection.id',\n",
    "                'belongs_to_collection.name',\n",
    "                'belongs_to_collection.poster_path', \n",
    "                'belongs_to_collection.backdrop_path'\n",
    "               ]\n",
    "movie_revenue_df.drop(columns_drop, axis=1, inplace=True)"
   ]
  },
  {
   "cell_type": "code",
   "execution_count": 25,
   "metadata": {},
   "outputs": [],
   "source": [
    "# create index multiplier\n",
    "inflation_df['CPI_multiplier'] = inflation_df['CPIAUCNS'].iloc[-1] / inflation_df['CPIAUCNS']"
   ]
  },
  {
   "cell_type": "code",
   "execution_count": 26,
   "metadata": {},
   "outputs": [],
   "source": [
    "#Convert release date to month/year and create new column called release month\n",
    "inflation_df['month'] = pd.to_datetime(inflation_df['DATE']).dt.to_period('M')\n"
   ]
  },
  {
   "cell_type": "code",
   "execution_count": 27,
   "metadata": {},
   "outputs": [],
   "source": [
    "#Merge CPI dataframe to movie_revenue_df by matching month"
   ]
  },
  {
   "cell_type": "code",
   "execution_count": 28,
   "metadata": {},
   "outputs": [],
   "source": [
    "final_df = pd.merge(movie_revenue_df, inflation_df, how='left', on='month')"
   ]
  },
  {
   "cell_type": "code",
   "execution_count": 29,
   "metadata": {},
   "outputs": [],
   "source": [
    "#Create CPI adjusted profit revenue and budget columns\n",
    "final_df['CPIAdjProfit'] = final_df['profit'] * final_df['CPI_multiplier'] \n",
    "final_df['CPIAdjRevenue'] = final_df['revenue'] * final_df['CPI_multiplier']  \n",
    "final_df['CPIAdjBudget'] = final_df['budget'] * final_df['CPI_multiplier'] "
   ]
  },
  {
   "cell_type": "code",
   "execution_count": 30,
   "metadata": {},
   "outputs": [],
   "source": [
    "#Remove new releases from dataset (released after 11/1/19)\n",
    "indexNames = final_df[ final_df['month'] > datetime.date(2019,11,1) ].index\n",
    "final_df.drop(indexNames , inplace=True)"
   ]
  },
  {
   "cell_type": "code",
   "execution_count": 31,
   "metadata": {},
   "outputs": [],
   "source": [
    "#Save final data to csv file"
   ]
  },
  {
   "cell_type": "code",
   "execution_count": 32,
   "metadata": {},
   "outputs": [],
   "source": [
    "final_df.to_csv(results_dir + final_data)"
   ]
  },
  {
   "cell_type": "code",
   "execution_count": null,
   "metadata": {},
   "outputs": [],
   "source": []
  }
 ],
 "metadata": {
  "anaconda-cloud": {},
  "kernel_info": {
   "name": "python3"
  },
  "kernelspec": {
   "display_name": "api",
   "language": "python",
   "name": "api"
  },
  "language_info": {
   "codemirror_mode": {
    "name": "ipython",
    "version": 3
   },
   "file_extension": ".py",
   "mimetype": "text/x-python",
   "name": "python",
   "nbconvert_exporter": "python",
   "pygments_lexer": "ipython3",
   "version": "3.7.4"
  },
  "nteract": {
   "version": "0.12.3"
  }
 },
 "nbformat": 4,
 "nbformat_minor": 4
}

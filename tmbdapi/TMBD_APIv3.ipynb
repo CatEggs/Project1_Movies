{
 "cells": [
  {
   "cell_type": "markdown",
   "metadata": {},
   "source": [
    "# TMBD Data API\n",
    "----\n"
   ]
  },
  {
   "cell_type": "code",
   "execution_count": 52,
   "metadata": {
    "scrolled": true
   },
   "outputs": [],
   "source": [
    "# Dependencies and Setup\n",
    "import matplotlib.pyplot as plt\n",
    "import pandas as pd\n",
    "import numpy as np\n",
    "import requests\n",
    "import time\n",
    "import os\n",
    "import locale # to format currency as USD\n",
    "from pandas.io.json import json_normalize\n",
    "locale.setlocale( locale.LC_ALL, '' )\n",
    "\n",
    "# Import API key\n",
    "from api_keys import api_key\n",
    "\n",
    "# Output File (CSV)\n",
    "output_data_file = \"tmbddata_dev.csv\"\n",
    "movie_revenue_data = \"tmbd_dev_movie_revenue.csv\"\n",
    "        "
   ]
  },
  {
   "cell_type": "code",
   "execution_count": 2,
   "metadata": {},
   "outputs": [],
   "source": [
    "## Generate Movies Database from TMBD API by looping though all pages\n",
    "all_results = []\n",
    "url = 'https://api.themoviedb.org/3/discover/movie/'\n",
    "page = 1\n",
    "while True:\n",
    "    r = requests.get(url + '?api_key='+ api_key+'&language=en-US' + '&page='+str(page))\n",
    "    movie_data = r.json()\n",
    "    if r.status_code == 200:\n",
    "        #all_results = r.json()['results']\n",
    "        all_results.append(movie_data)\n",
    "        page += 1\n",
    "    else:\n",
    "        break"
   ]
  },
  {
   "cell_type": "code",
   "execution_count": 3,
   "metadata": {},
   "outputs": [],
   "source": [
    "#Clean Data\n",
    "results_1 = []\n",
    "for page in all_results:\n",
    "    (page['results'])\n",
    "    for result in all_results[0]['results']:\n",
    "        results_1.append(result)"
   ]
  },
  {
   "cell_type": "code",
   "execution_count": 4,
   "metadata": {},
   "outputs": [],
   "source": [
    "#Create dataframe"
   ]
  },
  {
   "cell_type": "code",
   "execution_count": 5,
   "metadata": {},
   "outputs": [],
   "source": [
    "df = pd.DataFrame(results_1)"
   ]
  },
  {
   "cell_type": "code",
   "execution_count": 6,
   "metadata": {},
   "outputs": [
    {
     "data": {
      "text/html": [
       "<div>\n",
       "<style scoped>\n",
       "    .dataframe tbody tr th:only-of-type {\n",
       "        vertical-align: middle;\n",
       "    }\n",
       "\n",
       "    .dataframe tbody tr th {\n",
       "        vertical-align: top;\n",
       "    }\n",
       "\n",
       "    .dataframe thead th {\n",
       "        text-align: right;\n",
       "    }\n",
       "</style>\n",
       "<table border=\"1\" class=\"dataframe\">\n",
       "  <thead>\n",
       "    <tr style=\"text-align: right;\">\n",
       "      <th></th>\n",
       "      <th>popularity</th>\n",
       "      <th>vote_count</th>\n",
       "      <th>video</th>\n",
       "      <th>poster_path</th>\n",
       "      <th>id</th>\n",
       "      <th>adult</th>\n",
       "      <th>backdrop_path</th>\n",
       "      <th>original_language</th>\n",
       "      <th>original_title</th>\n",
       "      <th>genre_ids</th>\n",
       "      <th>title</th>\n",
       "      <th>vote_average</th>\n",
       "      <th>overview</th>\n",
       "      <th>release_date</th>\n",
       "    </tr>\n",
       "  </thead>\n",
       "  <tbody>\n",
       "    <tr>\n",
       "      <th>0</th>\n",
       "      <td>519.703</td>\n",
       "      <td>1762</td>\n",
       "      <td>False</td>\n",
       "      <td>/xBHvZcjRiWyobQ9kxBhO6B2dtRI.jpg</td>\n",
       "      <td>419704</td>\n",
       "      <td>False</td>\n",
       "      <td>/p3TCqUDoVsrIm8fHK9KOTfWnDjZ.jpg</td>\n",
       "      <td>en</td>\n",
       "      <td>Ad Astra</td>\n",
       "      <td>[12, 18, 9648, 878, 53]</td>\n",
       "      <td>Ad Astra</td>\n",
       "      <td>6.0</td>\n",
       "      <td>The near future, a time when both hope and har...</td>\n",
       "      <td>2019-09-17</td>\n",
       "    </tr>\n",
       "    <tr>\n",
       "      <th>1</th>\n",
       "      <td>260.519</td>\n",
       "      <td>2223</td>\n",
       "      <td>False</td>\n",
       "      <td>/db32LaOibwEliAmSL2jjDF6oDdj.jpg</td>\n",
       "      <td>181812</td>\n",
       "      <td>False</td>\n",
       "      <td>/jOzrELAzFxtMx2I4uDGHOotdfsS.jpg</td>\n",
       "      <td>en</td>\n",
       "      <td>Star Wars: The Rise of Skywalker</td>\n",
       "      <td>[28, 12, 878]</td>\n",
       "      <td>Star Wars: The Rise of Skywalker</td>\n",
       "      <td>6.6</td>\n",
       "      <td>The surviving Resistance faces the First Order...</td>\n",
       "      <td>2019-12-18</td>\n",
       "    </tr>\n",
       "    <tr>\n",
       "      <th>2</th>\n",
       "      <td>227.896</td>\n",
       "      <td>7618</td>\n",
       "      <td>False</td>\n",
       "      <td>/udDclJoHjfjb8Ekgsd4FDteOkCU.jpg</td>\n",
       "      <td>475557</td>\n",
       "      <td>False</td>\n",
       "      <td>/n6bUvigpRFqSwmPp1m2YADdbRBc.jpg</td>\n",
       "      <td>en</td>\n",
       "      <td>Joker</td>\n",
       "      <td>[80, 18, 53]</td>\n",
       "      <td>Joker</td>\n",
       "      <td>8.3</td>\n",
       "      <td>During the 1980s, a failed stand-up comedian i...</td>\n",
       "      <td>2019-10-02</td>\n",
       "    </tr>\n",
       "    <tr>\n",
       "      <th>3</th>\n",
       "      <td>207.727</td>\n",
       "      <td>964</td>\n",
       "      <td>False</td>\n",
       "      <td>/jyw8VKYEiM1UDzPB7NsisUgBeJ8.jpg</td>\n",
       "      <td>512200</td>\n",
       "      <td>False</td>\n",
       "      <td>/zTxHf9iIOCqRbxvl8W5QYKrsMLq.jpg</td>\n",
       "      <td>en</td>\n",
       "      <td>Jumanji: The Next Level</td>\n",
       "      <td>[28, 12, 35, 14]</td>\n",
       "      <td>Jumanji: The Next Level</td>\n",
       "      <td>6.7</td>\n",
       "      <td>As the gang return to Jumanji to rescue one of...</td>\n",
       "      <td>2019-12-04</td>\n",
       "    </tr>\n",
       "    <tr>\n",
       "      <th>4</th>\n",
       "      <td>183.294</td>\n",
       "      <td>1326</td>\n",
       "      <td>False</td>\n",
       "      <td>/vloNTScJ3w7jwNwtNGoG8DbTThv.jpg</td>\n",
       "      <td>420809</td>\n",
       "      <td>False</td>\n",
       "      <td>/skvI4rYFrKXS73BJxWGH54Omlvv.jpg</td>\n",
       "      <td>en</td>\n",
       "      <td>Maleficent: Mistress of Evil</td>\n",
       "      <td>[12, 14, 10751]</td>\n",
       "      <td>Maleficent: Mistress of Evil</td>\n",
       "      <td>7.2</td>\n",
       "      <td>Maleficent and her goddaughter Aurora begin to...</td>\n",
       "      <td>2019-10-16</td>\n",
       "    </tr>\n",
       "  </tbody>\n",
       "</table>\n",
       "</div>"
      ],
      "text/plain": [
       "   popularity  vote_count  video                       poster_path      id  \\\n",
       "0     519.703        1762  False  /xBHvZcjRiWyobQ9kxBhO6B2dtRI.jpg  419704   \n",
       "1     260.519        2223  False  /db32LaOibwEliAmSL2jjDF6oDdj.jpg  181812   \n",
       "2     227.896        7618  False  /udDclJoHjfjb8Ekgsd4FDteOkCU.jpg  475557   \n",
       "3     207.727         964  False  /jyw8VKYEiM1UDzPB7NsisUgBeJ8.jpg  512200   \n",
       "4     183.294        1326  False  /vloNTScJ3w7jwNwtNGoG8DbTThv.jpg  420809   \n",
       "\n",
       "   adult                     backdrop_path original_language  \\\n",
       "0  False  /p3TCqUDoVsrIm8fHK9KOTfWnDjZ.jpg                en   \n",
       "1  False  /jOzrELAzFxtMx2I4uDGHOotdfsS.jpg                en   \n",
       "2  False  /n6bUvigpRFqSwmPp1m2YADdbRBc.jpg                en   \n",
       "3  False  /zTxHf9iIOCqRbxvl8W5QYKrsMLq.jpg                en   \n",
       "4  False  /skvI4rYFrKXS73BJxWGH54Omlvv.jpg                en   \n",
       "\n",
       "                     original_title                genre_ids  \\\n",
       "0                          Ad Astra  [12, 18, 9648, 878, 53]   \n",
       "1  Star Wars: The Rise of Skywalker            [28, 12, 878]   \n",
       "2                             Joker             [80, 18, 53]   \n",
       "3           Jumanji: The Next Level         [28, 12, 35, 14]   \n",
       "4      Maleficent: Mistress of Evil          [12, 14, 10751]   \n",
       "\n",
       "                              title  vote_average  \\\n",
       "0                          Ad Astra           6.0   \n",
       "1  Star Wars: The Rise of Skywalker           6.6   \n",
       "2                             Joker           8.3   \n",
       "3           Jumanji: The Next Level           6.7   \n",
       "4      Maleficent: Mistress of Evil           7.2   \n",
       "\n",
       "                                            overview release_date  \n",
       "0  The near future, a time when both hope and har...   2019-09-17  \n",
       "1  The surviving Resistance faces the First Order...   2019-12-18  \n",
       "2  During the 1980s, a failed stand-up comedian i...   2019-10-02  \n",
       "3  As the gang return to Jumanji to rescue one of...   2019-12-04  \n",
       "4  Maleficent and her goddaughter Aurora begin to...   2019-10-16  "
      ]
     },
     "execution_count": 6,
     "metadata": {},
     "output_type": "execute_result"
    }
   ],
   "source": [
    "df.head()"
   ]
  },
  {
   "cell_type": "code",
   "execution_count": 7,
   "metadata": {},
   "outputs": [],
   "source": [
    "#create CSV file of raw data from OpenWeather API and store in Results Directory"
   ]
  },
  {
   "cell_type": "code",
   "execution_count": 8,
   "metadata": {},
   "outputs": [],
   "source": [
    "#Create directory to store results\n",
    "script_dir = os.path.dirname(\"\")\n",
    "results_dir = os.path.join(script_dir, 'Results/')\n",
    "if not os.path.isdir(results_dir):\n",
    "    os.makedirs(results_dir)\n",
    "df.to_csv(results_dir + output_data_file)"
   ]
  },
  {
   "cell_type": "code",
   "execution_count": 41,
   "metadata": {},
   "outputs": [],
   "source": [
    "movie_ids = df['id'].tolist()"
   ]
  },
  {
   "cell_type": "code",
   "execution_count": 47,
   "metadata": {},
   "outputs": [],
   "source": [
    "#single pull test\n",
    "# #https://api.themoviedb.org/3/movie/{movie_id}?api_key=<<api_key>>&language=en-US\n",
    "# movie_id = 419704\n",
    "# url = 'https://api.themoviedb.org/3/movie/'\n",
    "# r = requests.get(url + str(movie_id) + '?api_key='+ api_key+'&language=en-US' + '&sort_by=revenue.desc')\n",
    "# r.json()"
   ]
  },
  {
   "cell_type": "code",
   "execution_count": 43,
   "metadata": {},
   "outputs": [],
   "source": [
    "def get_movie_revenue(id, api_key):\n",
    "    \n",
    "    url = 'https://api.themoviedb.org/3/movie/'\n",
    "\n",
    "    r = requests.get(url + str(id) + '?api_key='+ api_key+'&language=en-US' + '&sort_by=revenue.desc')\n",
    "    \n",
    "    if r.status_code == 200:\n",
    "        return r.json()\n",
    "    else:\n",
    "        return None\n",
    "    \n",
    "\n",
    "movie_revenue = []\n",
    "\n",
    "for id in movie_ids:\n",
    "    result = get_movie_revenue(id, api_key)\n",
    "    if result:\n",
    "        movie_revenue.append(result)\n"
   ]
  },
  {
   "cell_type": "code",
   "execution_count": null,
   "metadata": {},
   "outputs": [],
   "source": []
  },
  {
   "cell_type": "code",
   "execution_count": 50,
   "metadata": {},
   "outputs": [],
   "source": [
    "# Create dataframe\n",
    "movie_df = pd.DataFrame([{\n",
    "    \"title\": d[\"title\"],\n",
    "    \"revenue\": d[\"revenue\"],\n",
    "    \"budget\": d[\"budget\"],\n",
    "} for d in movie_revenue])"
   ]
  },
  {
   "cell_type": "code",
   "execution_count": 51,
   "metadata": {},
   "outputs": [
    {
     "data": {
      "text/html": [
       "<div>\n",
       "<style scoped>\n",
       "    .dataframe tbody tr th:only-of-type {\n",
       "        vertical-align: middle;\n",
       "    }\n",
       "\n",
       "    .dataframe tbody tr th {\n",
       "        vertical-align: top;\n",
       "    }\n",
       "\n",
       "    .dataframe thead th {\n",
       "        text-align: right;\n",
       "    }\n",
       "</style>\n",
       "<table border=\"1\" class=\"dataframe\">\n",
       "  <thead>\n",
       "    <tr style=\"text-align: right;\">\n",
       "      <th></th>\n",
       "      <th>title</th>\n",
       "      <th>revenue</th>\n",
       "      <th>budget</th>\n",
       "    </tr>\n",
       "  </thead>\n",
       "  <tbody>\n",
       "    <tr>\n",
       "      <th>0</th>\n",
       "      <td>Ad Astra</td>\n",
       "      <td>127175922</td>\n",
       "      <td>87500000</td>\n",
       "    </tr>\n",
       "    <tr>\n",
       "      <th>1</th>\n",
       "      <td>Star Wars: The Rise of Skywalker</td>\n",
       "      <td>936302411</td>\n",
       "      <td>250000000</td>\n",
       "    </tr>\n",
       "    <tr>\n",
       "      <th>2</th>\n",
       "      <td>Joker</td>\n",
       "      <td>1060753468</td>\n",
       "      <td>55000000</td>\n",
       "    </tr>\n",
       "    <tr>\n",
       "      <th>3</th>\n",
       "      <td>Jumanji: The Next Level</td>\n",
       "      <td>615882314</td>\n",
       "      <td>125000000</td>\n",
       "    </tr>\n",
       "    <tr>\n",
       "      <th>4</th>\n",
       "      <td>Maleficent: Mistress of Evil</td>\n",
       "      <td>385990275</td>\n",
       "      <td>85000000</td>\n",
       "    </tr>\n",
       "  </tbody>\n",
       "</table>\n",
       "</div>"
      ],
      "text/plain": [
       "                              title     revenue     budget\n",
       "0                          Ad Astra   127175922   87500000\n",
       "1  Star Wars: The Rise of Skywalker   936302411  250000000\n",
       "2                             Joker  1060753468   55000000\n",
       "3           Jumanji: The Next Level   615882314  125000000\n",
       "4      Maleficent: Mistress of Evil   385990275   85000000"
      ]
     },
     "execution_count": 51,
     "metadata": {},
     "output_type": "execute_result"
    }
   ],
   "source": [
    "movie_df.head()"
   ]
  },
  {
   "cell_type": "code",
   "execution_count": 54,
   "metadata": {},
   "outputs": [],
   "source": [
    "df.to_csv(results_dir + movie_revenue_data)"
   ]
  },
  {
   "cell_type": "code",
   "execution_count": null,
   "metadata": {},
   "outputs": [],
   "source": []
  }
 ],
 "metadata": {
  "anaconda-cloud": {},
  "kernel_info": {
   "name": "python3"
  },
  "kernelspec": {
   "display_name": "api",
   "language": "python",
   "name": "api"
  },
  "language_info": {
   "codemirror_mode": {
    "name": "ipython",
    "version": 3
   },
   "file_extension": ".py",
   "mimetype": "text/x-python",
   "name": "python",
   "nbconvert_exporter": "python",
   "pygments_lexer": "ipython3",
   "version": "3.7.4"
  },
  "nteract": {
   "version": "0.12.3"
  }
 },
 "nbformat": 4,
 "nbformat_minor": 4
}

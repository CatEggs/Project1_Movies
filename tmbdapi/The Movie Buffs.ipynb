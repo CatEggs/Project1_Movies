{
 "cells": [
  {
   "cell_type": "markdown",
   "metadata": {},
   "source": [
    "# The Movie Buffs \n",
    "\n",
    "### Analyzing box office movie data to spot trends related to movie success.\n",
    "\n",
    "#### Collaborators: Barry Haygood, Cathy Egboh, Maya Saeidi, and Michelle Brucato"
   ]
  },
  {
   "cell_type": "code",
   "execution_count": 1,
   "metadata": {},
   "outputs": [],
   "source": [
    "# Dependencies and Setup\n",
    "import matplotlib.pyplot as plt\n",
    "import pandas as pd\n",
    "import numpy as np\n",
    "import requests\n",
    "import time\n",
    "import os\n",
    "import locale  # to format currency as USD\n",
    "from pandas.io.json import json_normalize\n",
    "import datetime\n",
    "import graphs \n",
    "\n",
    "locale.setlocale(locale.LC_ALL, \"\")\n",
    "\n",
    "from api_keys import api_key\n",
    "\n",
    "# Output File (CSV)\n",
    "output_data_file = \"tmbddata_dev.csv\"\n",
    "movie_revenue_data = \"tmbd_dev_movie_revenue.csv\"\n",
    "final_data = \"tmbd_data_final.csv\""
   ]
  },
  {
   "cell_type": "markdown",
   "metadata": {},
   "source": [
    "# Perform API calls to retrieve all necessary data\n",
    "### Retrieve movie titles, release date, critic vote score, and movie revenue (USD). "
   ]
  },
  {
   "cell_type": "code",
   "execution_count": null,
   "metadata": {},
   "outputs": [],
   "source": [
    "# Generate Movies Database from TMBD API by looping though all pages\n",
    "all_results = []\n",
    "url = \"https://api.themoviedb.org/3/discover/movie/\"\n",
    "page = 1\n",
    "while True:\n",
    "    r = requests.get(\n",
    "        url + \"?api_key=\" + api_key + \"&language=en-US\" + \"&page=\" + str(page)\n",
    "    )\n",
    "    movie_data = r.json()\n",
    "    if r.status_code == 200:\n",
    "        all_results.append(movie_data)\n",
    "        page += 1\n",
    "    else:\n",
    "        break"
   ]
  },
  {
   "cell_type": "code",
   "execution_count": null,
   "metadata": {},
   "outputs": [],
   "source": [
    "# Create dataframe to store movie data movie_df\n",
    "movie_df = pd.io.json.json_normalize(all_results, record_path=\"results\")\n",
    "\n",
    "# Create CSV file of raw data from TMBD API and store in Results Directory\n",
    "script_dir = os.path.dirname(\"\")\n",
    "results_dir = os.path.join(script_dir, \"Results/\")\n",
    "if not os.path.isdir(results_dir):\n",
    "    os.makedirs(results_dir)\n",
    "\n",
    "# Create directory to store results    \n",
    "movie_df.to_csv(results_dir + output_data_file)\n",
    "\n",
    "movie_ids = movie_df[\"id\"].tolist()"
   ]
  },
  {
   "cell_type": "code",
   "execution_count": null,
   "metadata": {},
   "outputs": [],
   "source": [
    "def get_movie_revenue(id, api_key):\n",
    "\n",
    "    url = \"https://api.themoviedb.org/3/movie/\"\n",
    "\n",
    "    r = requests.get(\n",
    "        url\n",
    "        + str(id)\n",
    "        + \"?api_key=\"\n",
    "        + api_key\n",
    "        + \"&language=en-US\"\n",
    "        + \"&sort_by=revenue.desc\"\n",
    "    )\n",
    "\n",
    "    if r.status_code == 200:\n",
    "        return r.json()\n",
    "    else:\n",
    "        return None\n",
    "\n",
    "movie_revenue = []\n",
    "\n",
    "for id in movie_ids:\n",
    "    result = get_movie_revenue(id, api_key)\n",
    "    if result:\n",
    "        movie_revenue.append(result)"
   ]
  },
  {
   "cell_type": "markdown",
   "metadata": {},
   "source": [
    "# Perform data munging to narrow scope to necessary fields   \n",
    "### Adjust for inflation for movie budget and revenue"
   ]
  },
  {
   "cell_type": "code",
   "execution_count": null,
   "metadata": {},
   "outputs": [],
   "source": [
    "movie_revenue_df = pd.io.json.json_normalize(movie_revenue)\n",
    "movie_revenue_df.to_csv(results_dir + movie_revenue_data)\n",
    "\n",
    "# Import FRED Consumer Price Index for Urban Consumers \n",
    "path = os.path.join(\"Data\", \"CPIAUCNS.csv\")\n",
    "inflation_df = pd.read_csv(path)"
   ]
  },
  {
   "cell_type": "code",
   "execution_count": null,
   "metadata": {},
   "outputs": [],
   "source": [
    "indexNames = movie_revenue_df[movie_revenue_df[\"revenue\"] <= 0].index\n",
    "movie_revenue_df.drop(indexNames, inplace=True)\n",
    "\n",
    "indexNames = movie_revenue_df[movie_revenue_df[\"budget\"] <= 0].index\n",
    "movie_revenue_df.drop(indexNames, inplace=True)\n",
    "\n",
    "movie_revenue_df[\"profit\"] = movie_revenue_df[\"revenue\"] - movie_revenue_df[\"budget\"]"
   ]
  },
  {
   "cell_type": "code",
   "execution_count": null,
   "metadata": {},
   "outputs": [],
   "source": [
    "# Convert release date to month/year and create new column called release month\n",
    "movie_revenue_df[\"month\"] = pd.to_datetime(\n",
    "    movie_revenue_df[\"release_date\"]\n",
    ").dt.to_period(\"M\")"
   ]
  },
  {
   "cell_type": "code",
   "execution_count": null,
   "metadata": {},
   "outputs": [],
   "source": [
    "columns_drop = [\n",
    "    \"adult\",\n",
    "    \"backdrop_path\",\n",
    "    \"belongs_to_collection\",\n",
    "    \"poster_path\",\n",
    "    \"genres\",\n",
    "    \"tagline\",\n",
    "    \"video\",\n",
    "    \"belongs_to_collection.id\",\n",
    "    \"belongs_to_collection.name\",\n",
    "    \"belongs_to_collection.poster_path\",\n",
    "    \"belongs_to_collection.backdrop_path\",\n",
    "]\n",
    "movie_revenue_df.drop(columns_drop, axis=1, inplace=True)"
   ]
  },
  {
   "cell_type": "code",
   "execution_count": null,
   "metadata": {},
   "outputs": [],
   "source": [
    "# create index multiplier\n",
    "inflation_df[\"CPI_multiplier\"] = (\n",
    "    inflation_df[\"CPIAUCNS\"].iloc[-1] / inflation_df[\"CPIAUCNS\"]\n",
    ")\n",
    "\n",
    "inflation_df[\"month\"] = pd.to_datetime(inflation_df[\"DATE\"]).dt.to_period(\"M\")\n",
    "\n",
    "# Merge CPI dataframe to movie_revenue_df by matching month\n",
    "final_df = pd.merge(movie_revenue_df, inflation_df, how=\"left\", on=\"month\")\n",
    "\n",
    "# Create CPI adjusted profit revenue and budget columns\n",
    "final_df[\"CPIAdjProfit\"] = final_df[\"profit\"] * final_df[\"CPI_multiplier\"]\n",
    "final_df[\"CPIAdjRevenue\"] = final_df[\"revenue\"] * final_df[\"CPI_multiplier\"]\n",
    "final_df[\"CPIAdjBudget\"] = final_df[\"budget\"] * final_df[\"CPI_multiplier\"]\n",
    "\n",
    "# Remove new releases from dataset (released after 11/1/19)\n",
    "indexNames = final_df[final_df[\"month\"] > datetime.date(2019, 11, 1)].index\n",
    "final_df.drop(indexNames, inplace=True)\n",
    "\n",
    "final_df.to_csv(results_dir + final_data)"
   ]
  },
  {
   "cell_type": "markdown",
   "metadata": {},
   "source": [
    "# Import Oscars data and perform data munging\n",
    "### Focus on movies released after 1980\n",
    "### Focus on movies nominated for Best Picture"
   ]
  },
  {
   "cell_type": "code",
   "execution_count": null,
   "metadata": {},
   "outputs": [],
   "source": [
    "# Create new dataframe with pre 1980 Release Data removed\n",
    "tmbd_data_post_1980_df = final_df\n",
    "tmbd_data_post_1980_df = tmbd_data_post_1980_df\n",
    "indexNames = tmbd_data_post_1980_df[tmbd_data_post_1980_df[\"month\"] < datetime.date(1980, 1, 1)].index\n",
    "tmbd_data_post_1980_df.drop(indexNames, inplace=True)\n",
    "\n",
    "tmbd_data_post_1980_df.to_csv(results_dir + \"TMBD_data_post_1980.csv\")\n",
    "\n",
    "#Load oscar data to dataframe\n",
    "path = os.path.join(\"Data\", \"data_csv.csv\")\n",
    "oscars_df = pd.read_csv(path)\n",
    "\n",
    "#Merge Oscar data with post 1980 movie data \n",
    "bestpic_df = pd.merge(tmbd_data_post_1980_df, oscars_df, how = \"left\", left_on =\"title\", right_on='entity')\n",
    "\n",
    "#Create conditions to annote Best_Picture Winner,Nominee, No\n",
    "cond1 = bestpic_df.category.str.contains('BEST PICTURE')\n",
    "cond2 = bestpic_df['winner'] == True\n",
    "\n",
    "#Denote Best Picture Restult\n",
    "bestpic_df['category'] = bestpic_df['category'].fillna('missing')\n",
    "bestpic_df['Best_Picture'] = np.where(np.logical_and(cond1 == True, cond2), \"Winner\", \"Nominee\")\n",
    "bestpic_df.loc[bestpic_df['category'].str.contains(\"BEST PICTURE\")==0,'Best_Picture'] = \"No\"\n",
    "\n",
    "\n",
    "bestpic_df.to_csv(results_dir + \"TMBD_Data_best_picture.csv\")"
   ]
  },
  {
   "cell_type": "markdown",
   "metadata": {},
   "source": [
    "# Visualize Movie Data"
   ]
  },
  {
   "cell_type": "markdown",
   "metadata": {},
   "source": [
    "<h2><center>Total sum of movie releases by year, from 1906 to 2019.</center></h2>\n",
    "\n",
    "* Throughout the years, total amount of movie releases has continued to increase"
   ]
  },
  {
   "cell_type": "markdown",
   "metadata": {},
   "source": [
    "![title](Sum_of_Releases.png)"
   ]
  },
  {
   "cell_type": "markdown",
   "metadata": {},
   "source": [
    "<h2><center> Compare movie profit based on release month</center></h2>\n",
    "\n",
    "* Limited scope to movies released after 1980 due to erroneous data related to profits and budgets\n",
    "* Movies released prior to 1980 were inconsistently adjusted for inflation (and accurate records were not available)\n",
    "* Movies released in the Summer tend to rake in the most profit "
   ]
  },
  {
   "cell_type": "markdown",
   "metadata": {},
   "source": [
    "![title](profit_release_month.png)"
   ]
  },
  {
   "cell_type": "markdown",
   "metadata": {},
   "source": [
    "<h2><center>Compare TMBD user vote average by \"Best Picture\" result</center></h2>\n",
    "\n",
    "* TMBD user vote average appears to correlate to the Oscar \"Best Picture\" results\n",
    "* Movies with the highest scores are more likely to be nominated and win an Oscar for \"Best Picture\"\n",
    "* Movies with the lowest scores are least likely to be nominated for \"Best Picture\" "
   ]
  },
  {
   "cell_type": "markdown",
   "metadata": {},
   "source": [
    "![title](bp_vote.png)"
   ]
  },
  {
   "cell_type": "markdown",
   "metadata": {},
   "source": [
    "<h2><center>Oscar nominations for Best Picture compared to movie release month</center></h2>\n",
    "\n",
    "* To demonstrate that nominees for \"Best Picture\" correlate with release month \n",
    "* December releases are more likely to be nominated and win for \"Best Picture\"\n",
    "* Fall releases are more likely to be nominated compared to Summer releases"
   ]
  },
  {
   "cell_type": "markdown",
   "metadata": {},
   "source": [
    "![title](bp_by_month.png)"
   ]
  },
  {
   "cell_type": "markdown",
   "metadata": {},
   "source": [
    "### Project Pain Points\n",
    "\n",
    "* We had a lot of bad data in terms of budget/revenue that needed some serious TLC \n",
    "* The API JSON response came over as a list of multiple nested dictionaries which posed a challenge for data munging \n",
    "* Git Forking proved to be more of a challenge than expected \n",
    "* Seaborn wouldve helped visualize correlations but we faced issues in running the package consistently"
   ]
  }
 ],
 "metadata": {
  "kernelspec": {
   "display_name": "project_env",
   "language": "python",
   "name": "project_env"
  },
  "language_info": {
   "codemirror_mode": {
    "name": "ipython",
    "version": 3
   },
   "file_extension": ".py",
   "mimetype": "text/x-python",
   "name": "python",
   "nbconvert_exporter": "python",
   "pygments_lexer": "ipython3",
   "version": "3.8.0"
  }
 },
 "nbformat": 4,
 "nbformat_minor": 2
}
